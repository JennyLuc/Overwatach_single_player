{
 "cells": [
  {
   "cell_type": "code",
   "execution_count": 2,
   "metadata": {
    "ExecuteTime": {
     "end_time": "2021-07-18T04:40:39.594652Z",
     "start_time": "2021-07-18T04:40:31.975131Z"
    }
   },
   "outputs": [],
   "source": [
    "import pandas as pd\n"
   ]
  },
  {
   "cell_type": "markdown",
   "metadata": {},
   "source": [
    "# Importing Dataset"
   ]
  },
  {
   "cell_type": "code",
   "execution_count": 64,
   "metadata": {
    "ExecuteTime": {
     "end_time": "2021-07-18T06:32:43.656520Z",
     "start_time": "2021-07-18T06:32:43.550805Z"
    }
   },
   "outputs": [],
   "source": [
    "s_3 = pd.read_csv('data/Overwatch Season 3 - Sheet1.csv')\n",
    "s_4 = pd.read_csv('data/Overwatch Season 4 - Sheet1.csv')\n",
    "s_5 = pd.read_csv('data/Overwatch Season 5 - Sheet1.csv')\n",
    "s_6 = pd.read_csv('data/Overwatch Season 6 - Sheet1.csv')\n",
    "s_7 = pd.read_csv('data/Overwatch Season 7 - Sheet1.csv')"
   ]
  },
  {
   "cell_type": "markdown",
   "metadata": {},
   "source": [
    "# Dropping unneeded columns and combining the tables"
   ]
  },
  {
   "cell_type": "code",
   "execution_count": 68,
   "metadata": {
    "ExecuteTime": {
     "end_time": "2021-07-18T06:35:53.666602Z",
     "start_time": "2021-07-18T06:35:53.656629Z"
    }
   },
   "outputs": [
    {
     "name": "stdout",
     "output_type": "stream",
     "text": [
      "141\n"
     ]
    },
    {
     "data": {
      "text/plain": [
       "28"
      ]
     },
     "execution_count": 68,
     "metadata": {},
     "output_type": "execute_result"
    }
   ],
   "source": [
    "print(sum(s_3['Unnamed: 30'].notnull()))\n",
    "sum(s_3['Unnamed: 31'].notnull())"
   ]
  },
  {
   "cell_type": "code",
   "execution_count": 65,
   "metadata": {
    "ExecuteTime": {
     "end_time": "2021-07-18T06:32:45.139558Z",
     "start_time": "2021-07-18T06:32:45.125596Z"
    }
   },
   "outputs": [
    {
     "name": "stdout",
     "output_type": "stream",
     "text": [
      "3\n",
      "35\n",
      "Index(['Date', 'Game ID', 'SR', 'SR Finish', 'Delta', 'Streak #',\n",
      "       'Win/ Loss/Draw', 'My Team's SR', 'Enemy Team's SR', 'Delta.1',\n",
      "       'Teammate', 'Unnamed: 11', 'Unnamed: 12', 'Unnamed: 13', 'Unnamed: 14',\n",
      "       'Unnamed: 15', 'Enemy Team', 'Unnamed: 17', 'Unnamed: 18',\n",
      "       'Unnamed: 19', 'Unnamed: 20', 'Unnamed: 21', 'Map', 'Round',\n",
      "       'Cap Score', 'Score/ Distance', 'Time Left', 'D/A/CP',\n",
      "       'Length of Match', 'Character', 'Unnamed: 30', 'Unnamed: 31', 'Note',\n",
      "       'Unnamed: 33', 'Unnamed: 34'],\n",
      "      dtype='object')\n",
      "4\n",
      "47\n",
      "Index(['Date', 'Time', 'Game ID', 'SR', 'SR Finish', 'Delta', 'Streak #',\n",
      "       'Win/ Loss/Draw', 'My Team's SR', 'Enemy Team's SR', 'Delta.1',\n",
      "       'Teammate', 'Unnamed: 12', 'Unnamed: 13', 'Unnamed: 14', 'Unnamed: 15',\n",
      "       'Unnamed: 16', 'Enemy Team', 'Unnamed: 18', 'Unnamed: 19',\n",
      "       'Unnamed: 20', 'Unnamed: 21', 'Unnamed: 22', 'Map', 'Round',\n",
      "       'Cap Score', 'Score/ Distance', 'Time Left', 'D/A/CP',\n",
      "       'Length of Match', 'Character', 'Unnamed: 31', 'Unnamed: 32',\n",
      "       'Communication level', 'Note', 'Physicological condition', 'Elim',\n",
      "       'ObjKills', 'ObjTime', 'Dam', 'Heal', 'Death', 'Weapon Acc',\n",
      "       'KillStreak', 'Offensive Assists', 'Defensive Assists', 'Scoped'],\n",
      "      dtype='object')\n",
      "5\n",
      "49\n",
      "Index(['Date', 'Time', 'Game ID', 'SR', 'SR Finish', 'Delta', 'Streak #',\n",
      "       'Win/ Loss/Draw', 'My Team's SR', 'Enemy Team's SR', 'Delta.1',\n",
      "       'Teammate', 'Unnamed: 12', 'Unnamed: 13', 'Unnamed: 14', 'Unnamed: 15',\n",
      "       'Unnamed: 16', 'Enemy Team', 'Unnamed: 18', 'Unnamed: 19',\n",
      "       'Unnamed: 20', 'Unnamed: 21', 'Unnamed: 22', 'Map', 'Round',\n",
      "       'Cap Score', 'Score/ Distance', 'Time Left', 'D/A/CP',\n",
      "       'Length of Match', 'Character', 'Unnamed: 31', 'Unnamed: 32',\n",
      "       'Communication level', 'Note', 'Physicological condition', 'Elim',\n",
      "       'ObjKills', 'ObjTime', 'Dam', 'Heal', 'Death', 'Weapon Acc',\n",
      "       'KillStreak', 'Offensive Assists', 'Defensive Assists', 'Scoped',\n",
      "       'Unnamed: 47', 'Unnamed: 48'],\n",
      "      dtype='object')\n",
      "6\n",
      "47\n",
      "Index(['Date', 'Time', 'Game ID', 'SR', 'SR Finish', 'Delta', 'Streak #',\n",
      "       'Win/ Loss/Draw', 'My Team's SR', 'Enemy Team's SR', 'Delta.1',\n",
      "       'Teammate', 'Unnamed: 12', 'Unnamed: 13', 'Unnamed: 14', 'Unnamed: 15',\n",
      "       'Unnamed: 16', 'Enemy Team', 'Unnamed: 18', 'Unnamed: 19',\n",
      "       'Unnamed: 20', 'Unnamed: 21', 'Unnamed: 22', 'Map', 'Round',\n",
      "       'Cap Score', 'Score/ Distance', 'Time Left', 'D/A/CP',\n",
      "       'Length of Match', 'Character', 'Unnamed: 31', 'Unnamed: 32',\n",
      "       'Communication level', 'Note', 'Physicological condition', 'Elim',\n",
      "       'ObjKills', 'ObjTime', 'Dam', 'Heal', 'Death', 'Weapon Acc',\n",
      "       'KillStreak', 'Offensive Assists', 'Defensive Assists', 'Scoped'],\n",
      "      dtype='object')\n",
      "7\n",
      "47\n",
      "Index(['Date', 'Time', 'Game ID', 'SR', 'SR Finish', 'Delta', 'Streak #',\n",
      "       'Win/ Loss/Draw', 'My Team's SR', 'Enemy Team's SR', 'Delta.1',\n",
      "       'Teammate', 'Unnamed: 12', 'Unnamed: 13', 'Unnamed: 14', 'Unnamed: 15',\n",
      "       'Unnamed: 16', 'Enemy Team', 'Unnamed: 18', 'Unnamed: 19',\n",
      "       'Unnamed: 20', 'Unnamed: 21', 'Unnamed: 22', 'Map', 'Round',\n",
      "       'Cap Score', 'Score/ Distance', 'Time Left', 'D/A/CP',\n",
      "       'Length of Match', 'Character', 'Unnamed: 31', 'Unnamed: 32',\n",
      "       'Communication level', 'Note', 'Physicological condition', 'Elim',\n",
      "       'ObjKills', 'ObjTime', 'Dam', 'Heal', 'Death', 'Weapon Acc',\n",
      "       'KillStreak', 'Offensive Assists', 'Defensive Assists', 'Scoped'],\n",
      "      dtype='object')\n"
     ]
    }
   ],
   "source": [
    "s = 3\n",
    "for season in [s_3,s_4, s_5, s_6, s_7]:\n",
    "    print (s)\n",
    "    s += 1\n",
    "    print (len(season.columns))\n",
    "    print(season.columns)"
   ]
  },
  {
   "cell_type": "code",
   "execution_count": 47,
   "metadata": {
    "ExecuteTime": {
     "end_time": "2021-07-18T06:25:29.329093Z",
     "start_time": "2021-07-18T06:25:29.177499Z"
    }
   },
   "outputs": [
    {
     "data": {
      "text/html": [
       "<div>\n",
       "<style scoped>\n",
       "    .dataframe tbody tr th:only-of-type {\n",
       "        vertical-align: middle;\n",
       "    }\n",
       "\n",
       "    .dataframe tbody tr th {\n",
       "        vertical-align: top;\n",
       "    }\n",
       "\n",
       "    .dataframe thead th {\n",
       "        text-align: right;\n",
       "    }\n",
       "</style>\n",
       "<table border=\"1\" class=\"dataframe\">\n",
       "  <thead>\n",
       "    <tr style=\"text-align: right;\">\n",
       "      <th></th>\n",
       "      <th>Date</th>\n",
       "      <th>Game ID</th>\n",
       "      <th>SR</th>\n",
       "      <th>SR Finish</th>\n",
       "      <th>Delta</th>\n",
       "      <th>Streak #</th>\n",
       "      <th>Win/ Loss/Draw</th>\n",
       "      <th>My Team's SR</th>\n",
       "      <th>Enemy Team's SR</th>\n",
       "      <th>Delta.1</th>\n",
       "      <th>...</th>\n",
       "      <th>Dam</th>\n",
       "      <th>Heal</th>\n",
       "      <th>Death</th>\n",
       "      <th>Weapon Acc</th>\n",
       "      <th>KillStreak</th>\n",
       "      <th>Offensive Assists</th>\n",
       "      <th>Defensive Assists</th>\n",
       "      <th>Scoped</th>\n",
       "      <th>Unnamed: 47</th>\n",
       "      <th>Unnamed: 48</th>\n",
       "    </tr>\n",
       "  </thead>\n",
       "  <tbody>\n",
       "    <tr>\n",
       "      <th>0</th>\n",
       "      <td>12/4/2016</td>\n",
       "      <td>1.0</td>\n",
       "      <td>2387</td>\n",
       "      <td>NaN</td>\n",
       "      <td>NaN</td>\n",
       "      <td>NaN</td>\n",
       "      <td>W</td>\n",
       "      <td>-</td>\n",
       "      <td>-</td>\n",
       "      <td>-</td>\n",
       "      <td>...</td>\n",
       "      <td>NaN</td>\n",
       "      <td>NaN</td>\n",
       "      <td>NaN</td>\n",
       "      <td>NaN</td>\n",
       "      <td>NaN</td>\n",
       "      <td>NaN</td>\n",
       "      <td>NaN</td>\n",
       "      <td>NaN</td>\n",
       "      <td>NaN</td>\n",
       "      <td>NaN</td>\n",
       "    </tr>\n",
       "    <tr>\n",
       "      <th>1</th>\n",
       "      <td>12/4/2016</td>\n",
       "      <td>2.0</td>\n",
       "      <td>2387</td>\n",
       "      <td>2367</td>\n",
       "      <td>-20</td>\n",
       "      <td>NaN</td>\n",
       "      <td>L</td>\n",
       "      <td>2617</td>\n",
       "      <td>2619</td>\n",
       "      <td>-2</td>\n",
       "      <td>...</td>\n",
       "      <td>NaN</td>\n",
       "      <td>NaN</td>\n",
       "      <td>NaN</td>\n",
       "      <td>NaN</td>\n",
       "      <td>NaN</td>\n",
       "      <td>NaN</td>\n",
       "      <td>NaN</td>\n",
       "      <td>NaN</td>\n",
       "      <td>NaN</td>\n",
       "      <td>NaN</td>\n",
       "    </tr>\n",
       "    <tr>\n",
       "      <th>2</th>\n",
       "      <td>12/4/2016</td>\n",
       "      <td>2.0</td>\n",
       "      <td>NaN</td>\n",
       "      <td>NaN</td>\n",
       "      <td>NaN</td>\n",
       "      <td>NaN</td>\n",
       "      <td>L</td>\n",
       "      <td>2617</td>\n",
       "      <td>2619</td>\n",
       "      <td>-2</td>\n",
       "      <td>...</td>\n",
       "      <td>NaN</td>\n",
       "      <td>NaN</td>\n",
       "      <td>NaN</td>\n",
       "      <td>NaN</td>\n",
       "      <td>NaN</td>\n",
       "      <td>NaN</td>\n",
       "      <td>NaN</td>\n",
       "      <td>NaN</td>\n",
       "      <td>NaN</td>\n",
       "      <td>NaN</td>\n",
       "    </tr>\n",
       "    <tr>\n",
       "      <th>3</th>\n",
       "      <td>12/4/2016</td>\n",
       "      <td>3.0</td>\n",
       "      <td>2367</td>\n",
       "      <td>2367</td>\n",
       "      <td>0</td>\n",
       "      <td>NaN</td>\n",
       "      <td>-</td>\n",
       "      <td>2680</td>\n",
       "      <td>2745</td>\n",
       "      <td>-65</td>\n",
       "      <td>...</td>\n",
       "      <td>NaN</td>\n",
       "      <td>NaN</td>\n",
       "      <td>NaN</td>\n",
       "      <td>NaN</td>\n",
       "      <td>NaN</td>\n",
       "      <td>NaN</td>\n",
       "      <td>NaN</td>\n",
       "      <td>NaN</td>\n",
       "      <td>NaN</td>\n",
       "      <td>NaN</td>\n",
       "    </tr>\n",
       "    <tr>\n",
       "      <th>4</th>\n",
       "      <td>12/15/2016</td>\n",
       "      <td>4.0</td>\n",
       "      <td>2367</td>\n",
       "      <td>2367</td>\n",
       "      <td>0</td>\n",
       "      <td>NaN</td>\n",
       "      <td>-</td>\n",
       "      <td>-</td>\n",
       "      <td>-</td>\n",
       "      <td>-</td>\n",
       "      <td>...</td>\n",
       "      <td>NaN</td>\n",
       "      <td>NaN</td>\n",
       "      <td>NaN</td>\n",
       "      <td>NaN</td>\n",
       "      <td>NaN</td>\n",
       "      <td>NaN</td>\n",
       "      <td>NaN</td>\n",
       "      <td>NaN</td>\n",
       "      <td>NaN</td>\n",
       "      <td>NaN</td>\n",
       "    </tr>\n",
       "  </tbody>\n",
       "</table>\n",
       "<p>5 rows × 55 columns</p>\n",
       "</div>"
      ],
      "text/plain": [
       "         Date  Game ID    SR SR Finish Delta Streak # Win/ Loss/Draw  \\\n",
       "0   12/4/2016      1.0  2387       NaN   NaN      NaN              W   \n",
       "1   12/4/2016      2.0  2387      2367   -20      NaN              L   \n",
       "2   12/4/2016      2.0   NaN       NaN   NaN      NaN              L   \n",
       "3   12/4/2016      3.0  2367      2367     0      NaN              -   \n",
       "4  12/15/2016      4.0  2367      2367     0      NaN              -   \n",
       "\n",
       "  My Team's SR Enemy Team's SR Delta.1  ... Dam Heal Death Weapon Acc  \\\n",
       "0            -               -       -  ... NaN  NaN   NaN        NaN   \n",
       "1         2617            2619      -2  ... NaN  NaN   NaN        NaN   \n",
       "2         2617            2619      -2  ... NaN  NaN   NaN        NaN   \n",
       "3         2680            2745     -65  ... NaN  NaN   NaN        NaN   \n",
       "4            -               -       -  ... NaN  NaN   NaN        NaN   \n",
       "\n",
       "  KillStreak Offensive Assists Defensive Assists Scoped Unnamed: 47  \\\n",
       "0        NaN               NaN               NaN    NaN         NaN   \n",
       "1        NaN               NaN               NaN    NaN         NaN   \n",
       "2        NaN               NaN               NaN    NaN         NaN   \n",
       "3        NaN               NaN               NaN    NaN         NaN   \n",
       "4        NaN               NaN               NaN    NaN         NaN   \n",
       "\n",
       "  Unnamed: 48  \n",
       "0         NaN  \n",
       "1         NaN  \n",
       "2         NaN  \n",
       "3         NaN  \n",
       "4         NaN  \n",
       "\n",
       "[5 rows x 55 columns]"
      ]
     },
     "execution_count": 47,
     "metadata": {},
     "output_type": "execute_result"
    }
   ],
   "source": [
    "#concatonating the seasons togther\n",
    "data_list = [s_3,s_4, s_5, s_6, s_7]\n",
    "all_data = pd.DataFrame()\n",
    "season_num = 3\n",
    "for season in data_list:\n",
    "    #adding a column that labels the seasons\n",
    "    season['season'] = season_num\n",
    "    season_num += 1\n",
    "    all_data = all_data.append(season)\n",
    "all_data.head()"
   ]
  },
  {
   "cell_type": "code",
   "execution_count": null,
   "metadata": {},
   "outputs": [],
   "source": []
  },
  {
   "cell_type": "code",
   "execution_count": 48,
   "metadata": {
    "ExecuteTime": {
     "end_time": "2021-07-18T06:25:38.719902Z",
     "start_time": "2021-07-18T06:25:38.712922Z"
    }
   },
   "outputs": [
    {
     "data": {
      "text/plain": [
       "Index(['Date', 'Game ID', 'SR', 'SR Finish', 'Delta', 'Streak #',\n",
       "       'Win/ Loss/Draw', 'My Team's SR', 'Enemy Team's SR', 'Delta.1',\n",
       "       'Teammate', 'Unnamed: 11', 'Unnamed: 12', 'Unnamed: 13', 'Unnamed: 14',\n",
       "       'Unnamed: 15', 'Enemy Team', 'Unnamed: 17', 'Unnamed: 18',\n",
       "       'Unnamed: 19', 'Unnamed: 20', 'Unnamed: 21', 'Map', 'Round',\n",
       "       'Cap Score', 'Score/ Distance', 'Time Left', 'D/A/CP',\n",
       "       'Length of Match', 'Character', 'Unnamed: 30', 'Unnamed: 31', 'Note',\n",
       "       'Unnamed: 33', 'Unnamed: 34', 'season', 'Time', 'Unnamed: 16',\n",
       "       'Unnamed: 22', 'Unnamed: 32', 'Communication level',\n",
       "       'Physicological condition', 'Elim', 'ObjKills', 'ObjTime', 'Dam',\n",
       "       'Heal', 'Death', 'Weapon Acc', 'KillStreak', 'Offensive Assists',\n",
       "       'Defensive Assists', 'Scoped', 'Unnamed: 47', 'Unnamed: 48'],\n",
       "      dtype='object')"
      ]
     },
     "execution_count": 48,
     "metadata": {},
     "output_type": "execute_result"
    }
   ],
   "source": [
    "all_data.columns"
   ]
  },
  {
   "cell_type": "code",
   "execution_count": 55,
   "metadata": {
    "ExecuteTime": {
     "end_time": "2021-07-18T06:30:35.254815Z",
     "start_time": "2021-07-18T06:30:35.239855Z"
    }
   },
   "outputs": [],
   "source": [
    "#exclude columns that won't be needed\n",
    "columns_excl = ['Teammate', 'Unnamed: 11', 'Unnamed: 12', 'Unnamed: 13'\n",
    "                , 'Unnamed: 14', 'Unnamed: 15', 'Unnamed: 16'\n",
    "                , 'Unnamed: 17', 'Unnamed: 18', 'Unnamed: 19' \n",
    "                , 'Unnamed: 20', 'Unnamed: 21', 'Unnamed: 22'\n",
    "                , 'Enemy Team']     \n",
    "\n",
    "all_seasons = all_data[all_data.columns.difference(columns_excl)]"
   ]
  },
  {
   "cell_type": "code",
   "execution_count": 56,
   "metadata": {
    "ExecuteTime": {
     "end_time": "2021-07-18T06:30:35.527088Z",
     "start_time": "2021-07-18T06:30:35.518111Z"
    }
   },
   "outputs": [
    {
     "data": {
      "text/plain": [
       "Index(['Cap Score', 'Character', 'Communication level', 'D/A/CP', 'Dam',\n",
       "       'Date', 'Death', 'Defensive Assists', 'Delta', 'Delta.1', 'Elim',\n",
       "       'Enemy Team's SR', 'Game ID', 'Heal', 'KillStreak', 'Length of Match',\n",
       "       'Map', 'My Team's SR', 'Note', 'ObjKills', 'ObjTime',\n",
       "       'Offensive Assists', 'Physicological condition', 'Round', 'SR',\n",
       "       'SR Finish', 'Scoped', 'Score/ Distance', 'Streak #', 'Time',\n",
       "       'Time Left', 'Unnamed: 30', 'Unnamed: 31', 'Unnamed: 32', 'Unnamed: 33',\n",
       "       'Unnamed: 34', 'Unnamed: 47', 'Unnamed: 48', 'Weapon Acc',\n",
       "       'Win/ Loss/Draw', 'season'],\n",
       "      dtype='object')"
      ]
     },
     "execution_count": 56,
     "metadata": {},
     "output_type": "execute_result"
    }
   ],
   "source": [
    "all_seasons.columns"
   ]
  },
  {
   "cell_type": "code",
   "execution_count": 57,
   "metadata": {
    "ExecuteTime": {
     "end_time": "2021-07-18T06:30:35.739522Z",
     "start_time": "2021-07-18T06:30:35.716581Z"
    }
   },
   "outputs": [
    {
     "name": "stdout",
     "output_type": "stream",
     "text": [
      "Unnamed 30: 141\n",
      "Unnamed 31: 402\n",
      "Unnamed 32: 35\n",
      "Unnamed 33: 0\n",
      "Unnamed 34: 1\n",
      "Unnamed 47: 1\n",
      "Unnamed 48: 1\n"
     ]
    }
   ],
   "source": [
    "#figuring out the other unnamed columns\n",
    "print('Unnamed 30:', sum(all_seasons['Unnamed: 30'].notnull()))\n",
    "print('Unnamed 31:', sum(all_seasons['Unnamed: 31'].notnull()))\n",
    "print('Unnamed 32:', sum(all_seasons['Unnamed: 32'].notnull()))\n",
    "print('Unnamed 33:', sum(all_seasons['Unnamed: 33'].notnull()))\n",
    "print('Unnamed 34:', sum(all_seasons['Unnamed: 34'].notnull()))\n",
    "print('Unnamed 47:', sum(all_seasons['Unnamed: 47'].notnull()))\n",
    "print('Unnamed 48:', sum(all_seasons['Unnamed: 48'].notnull()))"
   ]
  },
  {
   "cell_type": "code",
   "execution_count": 60,
   "metadata": {
    "ExecuteTime": {
     "end_time": "2021-07-18T06:30:54.061275Z",
     "start_time": "2021-07-18T06:30:54.038336Z"
    }
   },
   "outputs": [
    {
     "data": {
      "text/html": [
       "<div>\n",
       "<style scoped>\n",
       "    .dataframe tbody tr th:only-of-type {\n",
       "        vertical-align: middle;\n",
       "    }\n",
       "\n",
       "    .dataframe tbody tr th {\n",
       "        vertical-align: top;\n",
       "    }\n",
       "\n",
       "    .dataframe thead th {\n",
       "        text-align: right;\n",
       "    }\n",
       "</style>\n",
       "<table border=\"1\" class=\"dataframe\">\n",
       "  <thead>\n",
       "    <tr style=\"text-align: right;\">\n",
       "      <th></th>\n",
       "      <th>Unnamed: 31</th>\n",
       "      <th>season</th>\n",
       "    </tr>\n",
       "  </thead>\n",
       "  <tbody>\n",
       "    <tr>\n",
       "      <th>28</th>\n",
       "      <td>Lucio</td>\n",
       "      <td>3</td>\n",
       "    </tr>\n",
       "    <tr>\n",
       "      <th>45</th>\n",
       "      <td>Lucio</td>\n",
       "      <td>3</td>\n",
       "    </tr>\n",
       "    <tr>\n",
       "      <th>93</th>\n",
       "      <td>Zen</td>\n",
       "      <td>3</td>\n",
       "    </tr>\n",
       "    <tr>\n",
       "      <th>218</th>\n",
       "      <td>Ana</td>\n",
       "      <td>3</td>\n",
       "    </tr>\n",
       "    <tr>\n",
       "      <th>226</th>\n",
       "      <td>Ana</td>\n",
       "      <td>3</td>\n",
       "    </tr>\n",
       "    <tr>\n",
       "      <th>...</th>\n",
       "      <td>...</td>\n",
       "      <td>...</td>\n",
       "    </tr>\n",
       "    <tr>\n",
       "      <th>383</th>\n",
       "      <td>Zen</td>\n",
       "      <td>7</td>\n",
       "    </tr>\n",
       "    <tr>\n",
       "      <th>387</th>\n",
       "      <td>Mercy</td>\n",
       "      <td>7</td>\n",
       "    </tr>\n",
       "    <tr>\n",
       "      <th>403</th>\n",
       "      <td>Moira</td>\n",
       "      <td>7</td>\n",
       "    </tr>\n",
       "    <tr>\n",
       "      <th>406</th>\n",
       "      <td>Lucio</td>\n",
       "      <td>7</td>\n",
       "    </tr>\n",
       "    <tr>\n",
       "      <th>421</th>\n",
       "      <td>Moira</td>\n",
       "      <td>7</td>\n",
       "    </tr>\n",
       "  </tbody>\n",
       "</table>\n",
       "<p>402 rows × 2 columns</p>\n",
       "</div>"
      ],
      "text/plain": [
       "    Unnamed: 31  season\n",
       "28        Lucio       3\n",
       "45        Lucio       3\n",
       "93          Zen       3\n",
       "218         Ana       3\n",
       "226         Ana       3\n",
       "..          ...     ...\n",
       "383         Zen       7\n",
       "387       Mercy       7\n",
       "403       Moira       7\n",
       "406       Lucio       7\n",
       "421       Moira       7\n",
       "\n",
       "[402 rows x 2 columns]"
      ]
     },
     "execution_count": 60,
     "metadata": {},
     "output_type": "execute_result"
    }
   ],
   "source": [
    "all_seasons[~all_seasons['Unnamed: 31'].isnull()][['Unnamed: 31', 'season']]"
   ]
  },
  {
   "cell_type": "code",
   "execution_count": null,
   "metadata": {},
   "outputs": [],
   "source": []
  },
  {
   "cell_type": "code",
   "execution_count": null,
   "metadata": {},
   "outputs": [],
   "source": []
  }
 ],
 "metadata": {
  "kernelspec": {
   "display_name": "Python 3",
   "language": "python",
   "name": "python3"
  },
  "language_info": {
   "codemirror_mode": {
    "name": "ipython",
    "version": 3
   },
   "file_extension": ".py",
   "mimetype": "text/x-python",
   "name": "python",
   "nbconvert_exporter": "python",
   "pygments_lexer": "ipython3",
   "version": "3.7.3"
  },
  "toc": {
   "base_numbering": 1,
   "nav_menu": {},
   "number_sections": false,
   "sideBar": true,
   "skip_h1_title": false,
   "title_cell": "Table of Contents",
   "title_sidebar": "Contents",
   "toc_cell": false,
   "toc_position": {},
   "toc_section_display": true,
   "toc_window_display": false
  }
 },
 "nbformat": 4,
 "nbformat_minor": 2
}
